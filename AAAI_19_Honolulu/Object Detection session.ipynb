{
 "cells": [
  {
   "cell_type": "markdown",
   "metadata": {},
   "source": [
    "* visualize gradient norm\n",
    "* gradient norm histogram\n",
    "    * https://arxiv.org/pdf/1811.05181.pdf\n",
    "    * bimodal\n",
    "    * left - well-classified\n",
    "    * right - outliers\n",
    "* gradient harmonizing mechanism\n",
    "    * gradient density - # of examples in region of g / length of region\n",
    "    * $GD(g) = \\frac{}{}$\n",
    "    * normalize gradient density by total num = $\\beta_i = \\frac{N}{GD(g_i)}$"
   ]
  },
  {
   "cell_type": "markdown",
   "metadata": {},
   "source": [
    "* GHM vs Focal Loss\n",
    "    * dynamic / adaptive to each batch in training\n",
    "    * easier to converge"
   ]
  },
  {
   "cell_type": "markdown",
   "metadata": {},
   "source": [
    "* new talk\n",
    "    * estimating 3d location\n",
    "    * https://arxiv.org/pdf/1811.10247.pdf\n",
    "    * \"if you are going to hit the car far away, you need to hit the car close to you first\""
   ]
  },
  {
   "cell_type": "markdown",
   "metadata": {},
   "source": [
    "* object detection based on region decomposition and assembly - Seung-Hwan Bae\n",
    "    * "
   ]
  },
  {
   "cell_type": "code",
   "execution_count": null,
   "metadata": {},
   "outputs": [],
   "source": []
  }
 ],
 "metadata": {
  "kernelspec": {
   "display_name": "Python 2",
   "language": "python",
   "name": "python2"
  },
  "language_info": {
   "codemirror_mode": {
    "name": "ipython",
    "version": 2
   },
   "file_extension": ".py",
   "mimetype": "text/x-python",
   "name": "python",
   "nbconvert_exporter": "python",
   "pygments_lexer": "ipython2",
   "version": "2.7.13"
  }
 },
 "nbformat": 4,
 "nbformat_minor": 2
}
