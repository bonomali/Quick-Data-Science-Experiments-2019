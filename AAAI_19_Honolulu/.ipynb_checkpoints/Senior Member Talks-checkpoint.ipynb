{
 "cells": [
  {
   "cell_type": "markdown",
   "metadata": {},
   "source": [
    "### Recommender Systems\n",
    "\n",
    "* content-based collaborative filtering\n",
    "* metrics for recommender systems:\n",
    "    * diversity and serendipity\n",
    "    * serendipity measures non-obviousness of recommendations (inverse of popularity)\n",
    "* shilling attack\n",
    "    * fake reviews \n",
    "        * Bandwagon attack\n",
    "    * content based is less vulnerable to attacks\n",
    "* bias and fairness\n",
    "    * e.g. job recommendations"
   ]
  },
  {
   "cell_type": "markdown",
   "metadata": {},
   "source": []
  },
  {
   "cell_type": "markdown",
   "metadata": {},
   "source": []
  }
 ],
 "metadata": {
  "kernelspec": {
   "display_name": "Python 2",
   "language": "python",
   "name": "python2"
  },
  "language_info": {
   "codemirror_mode": {
    "name": "ipython",
    "version": 2
   },
   "file_extension": ".py",
   "mimetype": "text/x-python",
   "name": "python",
   "nbconvert_exporter": "python",
   "pygments_lexer": "ipython2",
   "version": "2.7.13"
  }
 },
 "nbformat": 4,
 "nbformat_minor": 2
}
