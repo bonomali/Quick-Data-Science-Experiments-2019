{
 "cells": [
  {
   "cell_type": "markdown",
   "metadata": {},
   "source": [
    "### https://github.com/PreferredAI/recommendation-retrieval.git"
   ]
  },
  {
   "cell_type": "markdown",
   "metadata": {},
   "source": [
    "probablistic matrix factorization:\n",
    "http://papers.nips.cc/paper/3208-probabilistic-matrix-factorization.pdf"
   ]
  },
  {
   "cell_type": "markdown",
   "metadata": {},
   "source": [
    "### Locality sensitive hashing for recommenders\n",
    "* start with a lot of items -> use LSH to get a few sets -> do calculations again -> get top K\n",
    "* XBox transformation - ???\n",
    "    * http://delivery.acm.org/10.1145/3220000/3219971/p1561-huang.pdf?ip=50.58.63.246&id=3219971&acc=OPENTOC&key=4D4702B0C3E38B35%2E4D4702B0C3E38B35%2E4D4702B0C3E38B35%2E054E54E275136550&__acm__=1548710428_c9c658bb5bb9f6d1b3c464f6d6358305"
   ]
  },
  {
   "cell_type": "markdown",
   "metadata": {},
   "source": [
    "### Indexability\n",
    "* euclidean embedding - users and items are represented in the same space\n",
    "* [Euclidean embedding for explicit feedback] photo\n",
    "    * https://dollar.biz.uiowa.edu/~street/research/recsys10_cfmds.pdf\n",
    "    * KNN search is much faster now"
   ]
  },
  {
   "cell_type": "code",
   "execution_count": null,
   "metadata": {},
   "outputs": [],
   "source": []
  }
 ],
 "metadata": {
  "kernelspec": {
   "display_name": "Python 2",
   "language": "python",
   "name": "python2"
  },
  "language_info": {
   "codemirror_mode": {
    "name": "ipython",
    "version": 2
   },
   "file_extension": ".py",
   "mimetype": "text/x-python",
   "name": "python",
   "nbconvert_exporter": "python",
   "pygments_lexer": "ipython2",
   "version": "2.7.13"
  }
 },
 "nbformat": 4,
 "nbformat_minor": 2
}
