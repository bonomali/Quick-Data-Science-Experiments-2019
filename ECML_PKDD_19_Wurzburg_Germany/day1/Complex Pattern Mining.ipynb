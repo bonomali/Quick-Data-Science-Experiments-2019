{
 "cells": [
  {
   "cell_type": "markdown",
   "metadata": {},
   "source": [
    "### Effective Linear Models for Learning with Sequences and Time Series\n",
    "* Georgianna Ifrim\n",
    "* data and applications\n",
    "    * a lot of things are sequences\n",
    "    * e.g. dna, malware (bytes), sensors\n",
    "    * e.g. music, image shapes (pseudo time series), video\n",
    "* sequence learning approaches\n",
    "    * linear\n",
    "    * distance-based methods\n",
    "        * SVM String Kernels, KNN\n",
    "    * geenrative methods\n",
    "        * HMM\n",
    "    * DL\n",
    "        * convolutional NN, LSTM\n",
    "        * moved problem from \"deisgn good features\" to \"design good architectures\"\n",
    "    * Pattern based\n",
    "        * unsupervised - mine patterns -> feature selection -> classifier\n",
    "        * supervised mining\n",
    "            * mine discriminative pattern -> classifier (mine then learn)\n",
    "            * use measures of feature quality, e.g. info gain, chi-square --> eliminate lots of candidates\n",
    "            * memory issues, redundancy in features\n",
    "        * integrated approaches\n",
    "            * combine mining, selection and learning\n",
    "            * start w/ empty model (no feature selected)\n",
    "            * iterative:\n",
    "                * search for good features\n",
    "                * update model\n",
    "            * overcome memory / redundancy challenges\n",
    "            * efficient linear models\n",
    "            * 2 types of approaches\n",
    "                * boosting-based optimization\n",
    "                    * kudo-matsumoto bound on gain e.g. adaboost, gboost\n",
    "                * direct optimization\n",
    "                    * bound gradient of loss fn, e.g. sequence learning (SEQL), glearn\n",
    "            "
   ]
  },
  {
   "cell_type": "markdown",
   "metadata": {},
   "source": [
    "* key take away: linear models w/ rich features are accurate and interpretable\n",
    "* k-mer feature space\n",
    "    * pic: 9:28am, K-mer \n",
    "    * iteratively and selectively increase feature space (e.g. from unigrams to bigrams to trigrams...etc, and only select good ones)\n",
    "    * SEQL algorithm - greedy coordinate descent (gauss-southwell)\n",
    "    * pic: 9:34, SEQL algo\n",
    "    * to do: review http://www.stat.cmu.edu/~ryantibs/convexopt-F15/lectures/23-coord-desc.pdf\n",
    "    * pic: 9:37, SEQL Algo\n",
    "* linear models for time series\n",
    "    * SAXSEQUEL \n",
    "    * time series -> discretisation (sax, SFA) -> symbolic sequence -> SEQL algo\n",
    "    * https://github.com/lnthach/sax-seql"
   ]
  },
  {
   "cell_type": "markdown",
   "metadata": {},
   "source": [
    "### Contrastive Antichains in Hierarchies\n",
    "* humans understand concepts in terms of how they differ for the norm\n",
    "* e.g. make an entity a vector and see how it differs from norm\n",
    "* attributes can be made into a hierarchy\n",
    "* https://dl.acm.org/citation.cfm?id=3330954&dl=ACM&coll=DL\n",
    "* pic: 10:11am what is an antichain\n",
    "* find the antichains containing cattributes with distinctive values\n",
    "* background model\n",
    "    * prior knowlede\n",
    "    * information content = -log (pr(p))\n",
    "    * expectation of x_i\n",
    "    * expectation of x_i knowing x_pi_i (hierarchy value)\n",
    "* mine and rank antichains\n",
    "    * using subjective interestingenss\n",
    "    * $SI(P) = \\frac{IC(P)}{DL(p)}$\n",
    "* description length\n",
    "    * DL(p) is minimized when |P| is small\n",
    "* result \n",
    "    * pic: 10:19 - experiment results\n",
    "* \n",
    "\n"
   ]
  }
 ],
 "metadata": {
  "kernelspec": {
   "display_name": "Python 2",
   "language": "python",
   "name": "python2"
  },
  "language_info": {
   "codemirror_mode": {
    "name": "ipython",
    "version": 2
   },
   "file_extension": ".py",
   "mimetype": "text/x-python",
   "name": "python",
   "nbconvert_exporter": "python",
   "pygments_lexer": "ipython2",
   "version": "2.7.16"
  }
 },
 "nbformat": 4,
 "nbformat_minor": 2
}
