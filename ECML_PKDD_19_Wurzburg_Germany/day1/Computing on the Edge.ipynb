{
 "cells": [
  {
   "cell_type": "markdown",
   "metadata": {},
   "source": [
    "### Machine Learning based approach for predicting tool wear in Industrial Milling Processes\n",
    "* IoT manufacturing - https://en.wikipedia.org/wiki/Industry_4.0 \n",
    "* currently\n",
    "    * theoreitical life time estimated bh supplier\n",
    "        * safety zone too conservatice\n",
    "    * model or physics\n",
    "        * requires too much understanding of the physics\n",
    "* data set - https://www.phmsociety.org/competition/phm/10\n",
    "* temporal convolutional networks\n"
   ]
  },
  {
   "cell_type": "markdown",
   "metadata": {},
   "source": [
    "### Mining Human Mobility Data to Discover Locations and Habits\n",
    "* point - (lat, long, ts)\n",
    "* trajectory - set of time ordered pts\n",
    "* data set - https://www.microsoft.com/en-us/download/details.aspx?id=52367\n",
    "* location detection - density based methods\n",
    "    * DBSCAN"
   ]
  },
  {
   "cell_type": "markdown",
   "metadata": {},
   "source": []
  },
  {
   "cell_type": "markdown",
   "metadata": {},
   "source": []
  }
 ],
 "metadata": {
  "kernelspec": {
   "display_name": "Python 2",
   "language": "python",
   "name": "python2"
  },
  "language_info": {
   "codemirror_mode": {
    "name": "ipython",
    "version": 2
   },
   "file_extension": ".py",
   "mimetype": "text/x-python",
   "name": "python",
   "nbconvert_exporter": "python",
   "pygments_lexer": "ipython2",
   "version": "2.7.16"
  }
 },
 "nbformat": 4,
 "nbformat_minor": 2
}
