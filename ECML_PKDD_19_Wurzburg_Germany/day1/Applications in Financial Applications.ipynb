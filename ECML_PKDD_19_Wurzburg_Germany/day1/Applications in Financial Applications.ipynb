{
 "cells": [
  {
   "cell_type": "markdown",
   "metadata": {},
   "source": [
    "### Curriculum Learning in Deep Neural Network for Financial Forecasting\n",
    "* Allison Koenecke\n",
    "* current revenue forecasting, ususally use LSTMs\n",
    "* encoder decoder LSTM, dilated CNN (wavenet)\n",
    "* 4 variants of encoder-decoder\n",
    "   1. basic encoder-decoder LSTM\n",
    "   2. LSTM w/ Categorical indicators (just one hot)\n",
    "   3. LSTM w/ seasonality (multiplicative seasonal decomposition, stl)\n",
    "   4. LSTM w/ curriculum learning\n",
    "* pre-processing\n",
    "    * smoothing - log(rev + 1), demean\n",
    "    * walk-forward split - ensure no leakage in data\n",
    "* LSTM curriculum learning\n",
    "    * changing order of inputs to a model to improve results\n",
    "    * intuiition - shorter sentences are easier to learn\n",
    "    * bootstrapping via iterated learnning of longer sentences\n",
    "    * pic: 11:11 0 LSTM w/ curriculum learning\n",
    "* Dilated CNN\n",
    "    * use 1D convolutions\n",
    "* curriculum learning is powerful"
   ]
  },
  {
   "cell_type": "markdown",
   "metadata": {},
   "source": [
    "### Representation Learning in Graphs for Credit Card Fraud\n",
    "* 2 problems - application fraud and behavioral fraud\n",
    "* often rely on customer profiling\n",
    "    * lots of feature eng\n",
    "    * relational features are ignored\n",
    "* rq1 - holistically capture relation / structural info\n",
    "* rq2 - artificial nodes\n",
    "* rq3 - unseen graph elements\n",
    "* graph structure\n",
    "    * bipartite - customer and store\n",
    "        * problem - you get a node embedding\n",
    "    * tripartite - custom, store, amount\n",
    "    * tripartite grph w/ artificial nodes - adding fraud nodes\n",
    "* **net work -> node embedding -> ML**\n",
    "* random walk based node embedding\n",
    "    * deepwalk\n",
    "    * inspired by word2vec\n",
    "* inductive representation learning\n",
    "    * deepwalk is transductive - cannot generalized to unseen\n",
    "    * GraphSage - Hamilton et al.\n",
    "    * Pooling - inductive extension for shallow embedding methods"
   ]
  },
  {
   "cell_type": "markdown",
   "metadata": {},
   "source": [
    "### Mining business relationships from stocks and news\n",
    "* similarity of stock prices\n",
    "    * pearson sample-based product-moment correlation\n",
    "* preprocessing\n",
    "    * intraday return\n",
    "    * normalization by industry mean\n",
    "    * autoregressive modelling\n",
    "* build co-occurrence matrices for news and stocks"
   ]
  },
  {
   "cell_type": "markdown",
   "metadata": {},
   "source": [
    "### Mining Financial Risk Events from News and Assessing their impact on Stocks\n",
    "* enterprise risk \n",
    "    * quantitative \n",
    "    * qualitative\n",
    "* risk event extraction\n",
    "    * CNN with word location\n",
    "        * identifies if a sentence is a risk sentence\n",
    "    * target entity identification - gboost using linguistic features"
   ]
  },
  {
   "cell_type": "markdown",
   "metadata": {},
   "source": []
  },
  {
   "cell_type": "markdown",
   "metadata": {},
   "source": []
  },
  {
   "cell_type": "markdown",
   "metadata": {},
   "source": []
  }
 ],
 "metadata": {
  "kernelspec": {
   "display_name": "Python 2",
   "language": "python",
   "name": "python2"
  },
  "language_info": {
   "codemirror_mode": {
    "name": "ipython",
    "version": 2
   },
   "file_extension": ".py",
   "mimetype": "text/x-python",
   "name": "python",
   "nbconvert_exporter": "python",
   "pygments_lexer": "ipython2",
   "version": "2.7.16"
  }
 },
 "nbformat": 4,
 "nbformat_minor": 2
}
