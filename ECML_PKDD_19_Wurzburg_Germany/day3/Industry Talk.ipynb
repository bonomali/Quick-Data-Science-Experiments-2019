{
 "cells": [
  {
   "cell_type": "markdown",
   "metadata": {},
   "source": [
    "### Assessing the multi-labelness of multi-label data\n",
    "* https://ecmlpkdd2019.org/downloads/paper/562.pdf\n",
    "* multi label problems in predicting problems from retina blood vessel snapshots\n",
    "* how to know if labels are associated?\n",
    "    * analytical model - see one model given the others\n",
    "    * confounding variable example - multicolinearity\n",
    "* logistic regression - use lots of regularization\n",
    "* split regression\n",
    "    * first model the response using X \n",
    "    * then model the left over using the remaining y\n",
    "* tests\n",
    "    * pics - 12:01"
   ]
  },
  {
   "cell_type": "markdown",
   "metadata": {},
   "source": [
    "### Black Box Explanation by Learning Image Exemplars in the Latent Feature Space\n",
    "* https://www.ecmlpkdd2019.org/downloads/paper/572.pdf\n",
    "* background bias for img classification"
   ]
  },
  {
   "cell_type": "markdown",
   "metadata": {},
   "source": []
  },
  {
   "cell_type": "markdown",
   "metadata": {},
   "source": []
  }
 ],
 "metadata": {
  "kernelspec": {
   "display_name": "Python 2",
   "language": "python",
   "name": "python2"
  },
  "language_info": {
   "codemirror_mode": {
    "name": "ipython",
    "version": 2
   },
   "file_extension": ".py",
   "mimetype": "text/x-python",
   "name": "python",
   "nbconvert_exporter": "python",
   "pygments_lexer": "ipython2",
   "version": "2.7.16"
  }
 },
 "nbformat": 4,
 "nbformat_minor": 2
}
