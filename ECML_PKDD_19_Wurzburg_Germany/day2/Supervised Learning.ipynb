{
 "cells": [
  {
   "cell_type": "markdown",
   "metadata": {},
   "source": [
    "### Aggregating Algorithm for Prediction of Packs\n",
    "* N experts"
   ]
  },
  {
   "cell_type": "markdown",
   "metadata": {},
   "source": [
    "### Continual Rare Class Classification w/ Emerging Novel Subclasses\n",
    "* recongizie recurrent and emerging rare subclasses\n",
    "* D = Rare and Normal\n",
    "* R = Union of R_k\n",
    "* https://arxiv.org/pdf/1906.12218.pdf\n",
    "* classifiers\n",
    "    * f_0 to separate R and N\n",
    "    * f_k to separate K subclasses\n",
    "    * "
   ]
  },
  {
   "cell_type": "markdown",
   "metadata": {},
   "source": [
    "### Shift happens\n",
    "* dataset shift - P(x, Y)_train != P(X, Y)_test\n",
    "* causes\n",
    "    * selection bias\n",
    "    * imbalance\n",
    "    * changling environemnt\n",
    "* proper scoring rules\n",
    "    * classifier loss fns\n",
    "    * bregman divergence\n",
    "* new adjusters\n",
    "    * unbounded general adjustment\n",
    "\n"
   ]
  },
  {
   "cell_type": "markdown",
   "metadata": {},
   "source": [
    "### Non parametric bayesian - isotonic calibration\n",
    "* isotonic regression - curve to likelihood - the optimal curve optimizes MLE\n",
    "* problems\n",
    "    * too confident in segments of the curve\n",
    "    * one idea to correct it is to do platt's correction - instead of 1, use ...\n",
    "* bayes - Iso\n",
    "    * bayesian isotonic - minimises future expected loss instead of loss on trainin data\n",
    "    * prior - e.g. uniform random pts, \n",
    "        * problem is that priors too low likelihood -> sample with bounds"
   ]
  },
  {
   "cell_type": "markdown",
   "metadata": {},
   "source": [
    "### Deeply supervised model for CTR\n",
    "* Criteo AI Lab\n",
    "* 2 tasks\n",
    "    * query to ad matching task\n",
    "    * ctr prediction task\n",
    "* approaches\n",
    "    * history based features\n",
    "    * semantic features (from query and ad)\n",
    "    * DNN\n",
    "* basically use NLP techniques to learn the query representation and ad representation"
   ]
  },
  {
   "cell_type": "code",
   "execution_count": null,
   "metadata": {},
   "outputs": [],
   "source": []
  }
 ],
 "metadata": {
  "kernelspec": {
   "display_name": "Python 2",
   "language": "python",
   "name": "python2"
  },
  "language_info": {
   "codemirror_mode": {
    "name": "ipython",
    "version": 2
   },
   "file_extension": ".py",
   "mimetype": "text/x-python",
   "name": "python",
   "nbconvert_exporter": "python",
   "pygments_lexer": "ipython2",
   "version": "2.7.16"
  }
 },
 "nbformat": 4,
 "nbformat_minor": 2
}
