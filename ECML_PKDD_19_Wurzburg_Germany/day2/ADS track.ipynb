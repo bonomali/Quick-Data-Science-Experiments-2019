{
 "cells": [
  {
   "cell_type": "markdown",
   "metadata": {},
   "source": [
    "### Transfer learning in credit risk\n",
    "* background\n",
    "    * limited historical\n",
    "    * unaffordable credit \n",
    "    * transfer learning to leverage knowledge from related domain\n",
    "    * e.g. credit card lending -> debt consolidation -> small business lending\n",
    "* progressive shift contribution\n",
    "    * start out with 4 nets\n",
    "    * moves data gradually towards new domain"
   ]
  },
  {
   "cell_type": "markdown",
   "metadata": {},
   "source": [
    "### Residual Value Forecasting for Vehicle Leasing @ VW\n",
    "* multi task learning approach\n",
    "* residual value forecasting - what is the price of a used vehicle in 3 years\n",
    "* auxillary tasks\n",
    "    * actual milleage a vehicle is driven\n",
    "    * damages incurred\n",
    "    * days till sale date\n",
    "    * days till return date\n",
    "* loss fn a weighted loss of all the tasks "
   ]
  },
  {
   "cell_type": "markdown",
   "metadata": {},
   "source": [
    "### Shallow Self-Learning for Reject Inference in Credit Scoring\n",
    "* reject inference - sample bias\n",
    "* biased loop in credit scoring - you only observe what you accept\n",
    "* https://www.ecmlpkdd2019.org/downloads/paper/730.pdf\n",
    "* AUC deteriorates over time\n",
    "* pics 11:45\n",
    "* pics: 11:48\n",
    "* pics: 11:50\n",
    "* pics: 11:51\n",
    "* kickout metric - see paper"
   ]
  },
  {
   "cell_type": "markdown",
   "metadata": {},
   "source": [
    "### Cold Start Recommendation for On-Demand Cinemas\n",
    "* background\n",
    "    * on-demand cinemas - offline venues for small groups\n",
    "* LDA to learn location categories?\n",
    "* pics: 12:20"
   ]
  },
  {
   "cell_type": "code",
   "execution_count": null,
   "metadata": {},
   "outputs": [],
   "source": []
  }
 ],
 "metadata": {
  "kernelspec": {
   "display_name": "Python 2",
   "language": "python",
   "name": "python2"
  },
  "language_info": {
   "codemirror_mode": {
    "name": "ipython",
    "version": 2
   },
   "file_extension": ".py",
   "mimetype": "text/x-python",
   "name": "python",
   "nbconvert_exporter": "python",
   "pygments_lexer": "ipython2",
   "version": "2.7.16"
  }
 },
 "nbformat": 4,
 "nbformat_minor": 2
}
