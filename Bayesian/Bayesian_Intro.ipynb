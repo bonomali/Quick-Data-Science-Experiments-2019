{
 "cells": [
  {
   "cell_type": "markdown",
   "metadata": {},
   "source": [
    "http://faculty.washington.edu/kenrice/BayesIntroClassEpi2018.pdf"
   ]
  },
  {
   "cell_type": "markdown",
   "metadata": {},
   "source": [
    "* bayes' $P(A|B) = \\frac{P(A, B)}{P(B)} = P(B|A) * \\frac{P(A)}{P(B)}$\n",
    "* Bayesian inference uses the ‘language’ of probability to describe what is known about parameters"
   ]
  },
  {
   "cell_type": "markdown",
   "metadata": {},
   "source": [
    "### Bayesian Inference\n",
    "* prior distribution\n",
    "    * what we know about param $\\beta$, excluding info in the data\n",
    "    * $\\pi(\\beta)$\n",
    "* likelihood\n",
    "    * how likely is data Y if the truth is $\\beta$\n",
    "    * $f(\\beta)$\n",
    "* posterior distribution\n",
    "    * $p(\\beta | Y) \\varpropto f(Y | \\beta) * \\pi(\\beta)$ "
   ]
  },
  {
   "cell_type": "markdown",
   "metadata": {},
   "source": [
    "![title](pic/bayes_inference.png)"
   ]
  },
  {
   "cell_type": "markdown",
   "metadata": {},
   "source": [
    "* priors come from data external to the study, everything else\n",
    "* priors matter when few data, doesn't matter when lots of data"
   ]
  },
  {
   "cell_type": "markdown",
   "metadata": {},
   "source": []
  },
  {
   "cell_type": "code",
   "execution_count": null,
   "metadata": {},
   "outputs": [],
   "source": []
  }
 ],
 "metadata": {
  "kernelspec": {
   "display_name": "Python 2",
   "language": "python",
   "name": "python2"
  },
  "language_info": {
   "codemirror_mode": {
    "name": "ipython",
    "version": 2
   },
   "file_extension": ".py",
   "mimetype": "text/x-python",
   "name": "python",
   "nbconvert_exporter": "python",
   "pygments_lexer": "ipython2",
   "version": "2.7.16"
  }
 },
 "nbformat": 4,
 "nbformat_minor": 2
}
